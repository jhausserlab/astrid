---
title: "Load in mice data for ASTRID"
output: html_notebook
---


```{r}
library(tidyverse)
library(SingleCellExperiment)
library(Matrix)

```

```{r}

setwd("/scratch/alper.eroglu/tools/ASTRID/")

excludeSamples <- read.table(file = "data/excludeSingleR.csv", header = T, sep = ",")

# pseudobulk_matrix <- read.csv(input_adata, row.names=1)

newRef <- readRDS("data/ASTRID_SingleR_Reference_20240701.Rds")

newRef

```
```{r}
head(newRef@colData)
```

```{r}
print(unique(newRef@colData$cellTypeGRINT) %>% sort())
print(unique(newRef@colData$lineageGRINT) %>% sort())
print(unique(newRef@colData$label.fine) %>% sort())
print(unique(newRef@colData$label.main) %>% sort())

```


```{r}

BC_pseudobulk_counts <- read.table("/scratch/alper.eroglu/data/BC_pseudobulk_counts.csv", sep = ",", header = T, row.names = 1)

```

```{r}
BC_pseudobulk_metadata <- read.table("/scratch/alper.eroglu/data/BC_pseudobulk_metadata.csv", sep = ",", header = T, row.names = 1)

BC_pseudobulk_metadata$cellType %>% unique()
```


```{r}

BC_pseudobulk_metadata <- read.table("/scratch/alper.eroglu/data/BC_pseudobulk_metadata.csv", sep = ",", header = T, row.names = 1)

rownames(BC_pseudobulk_metadata) <- BC_pseudobulk_metadata$SampleName

BC_pseudobulk_metadata$cell_type <- BC_pseudobulk_metadata$cellType
BC_pseudobulk_metadata$sample_id <- BC_pseudobulk_metadata$SampleName
BC_pseudobulk_metadata$DB <- "Gsell2025"
BC_pseudobulk_metadata$samples <- BC_pseudobulk_metadata$SampleName

BC_pseudobulk_metadata$cellTypeGRINT <- BC_pseudobulk_metadata$cellType
BC_pseudobulk_metadata[BC_pseudobulk_metadata$cellTypeGRINT == "Bcells", "cellTypeGRINT"] <- "B"
BC_pseudobulk_metadata[BC_pseudobulk_metadata$cellTypeGRINT == "NKcells", "cellTypeGRINT"] <- "ILC"
BC_pseudobulk_metadata[BC_pseudobulk_metadata$cellTypeGRINT == "DCs", "cellTypeGRINT"] <- "dendritic"
BC_pseudobulk_metadata[BC_pseudobulk_metadata$cellTypeGRINT == "CD4Tcells", "cellTypeGRINT"] <- "T CD4"
BC_pseudobulk_metadata[BC_pseudobulk_metadata$cellTypeGRINT == "CD8Tcells", "cellTypeGRINT"] <- "T CD8"
BC_pseudobulk_metadata[BC_pseudobulk_metadata$cellTypeGRINT == "Tregs", "cellTypeGRINT"] <- "Treg"
BC_pseudobulk_metadata[BC_pseudobulk_metadata$cellTypeGRINT == "TAMs", "cellTypeGRINT"] <- "macrophages"
BC_pseudobulk_metadata[BC_pseudobulk_metadata$cellTypeGRINT == "endo", "cellTypeGRINT"] <- "endothelial"
BC_pseudobulk_metadata[BC_pseudobulk_metadata$cellTypeGRINT == "fibroAdipo", "cellTypeGRINT"] <- "fibroblasts"

BC_pseudobulk_metadata$label.fine <- BC_pseudobulk_metadata$cellTypeGRINT

BC_pseudobulk_metadata$lineageGRINT <- BC_pseudobulk_metadata$cellTypeGRINT
BC_pseudobulk_metadata[BC_pseudobulk_metadata$lineageGRINT %in% c("T CD4", "T CD8", "Treg", "ILC"), "lineageGRINT"] <- "lymphoid"
BC_pseudobulk_metadata[BC_pseudobulk_metadata$lineageGRINT %in% c("macrophages", "dendritic"), "lineageGRINT"] <- "myeloid"
BC_pseudobulk_metadata[BC_pseudobulk_metadata$lineageGRINT %in% c("endothelial", "fibroblasts"), "lineageGRINT"] <- "stromal"
BC_pseudobulk_metadata$label.main <- BC_pseudobulk_metadata$lineageGRINT

cancer_samples <- BC_pseudobulk_metadata[BC_pseudobulk_metadata$cellType == "cancer", "SampleName"]

BC_pseudobulk_counts <- BC_pseudobulk_counts[!rownames(BC_pseudobulk_counts) %in% cancer_samples,,drop =F]
BC_pseudobulk_metadata <- BC_pseudobulk_metadata[!rownames(BC_pseudobulk_metadata) %in% cancer_samples,,drop =F]

BC_pseudobulk_metadata$cellTypeGRINT <- paste0(BC_pseudobulk_metadata$cellTypeGRINT, "_mouse")
BC_pseudobulk_metadata$lineageGRINT <- paste0(BC_pseudobulk_metadata$lineageGRINT, "_mouse")
BC_pseudobulk_metadata$label.fine <- paste0(BC_pseudobulk_metadata$label.fine, "_mouse")
BC_pseudobulk_metadata$label.main <- paste0(BC_pseudobulk_metadata$label.main, "_mouse")

```

```{r}
mouseRef <- SummarizedExperiment::SummarizedExperiment(assays = list(counts = t(BC_pseudobulk_counts)))
mouseRef@colData <- DataFrame(BC_pseudobulk_metadata[,c("cell_type", "sample_id", "samples", "lineageGRINT", "cellTypeGRINT",  "label.fine",  "label.main", "DB"), drop = F])
colnames(mouseRef) <- rownames(BC_pseudobulk_metadata)

mouseRef

```
```{r}



saveRDS(mouseRef, file = "/scratch/alper.eroglu/tools/ASTRID/data/ASTRID_SingleR_Reference_mouse_20250811.Rds")

```

