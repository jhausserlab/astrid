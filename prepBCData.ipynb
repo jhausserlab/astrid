{
 "cells": [
  {
   "cell_type": "code",
   "execution_count": 1,
   "id": "8deb1e2c",
   "metadata": {},
   "outputs": [
    {
     "name": "stderr",
     "output_type": "stream",
     "text": [
      "/scratch/alper.eroglu/miniconda3/lib/python3.10/site-packages/anndata/utils.py:434: FutureWarning: Importing read_csv from `anndata` is deprecated. Import anndata.io.read_csv instead.\n",
      "  warnings.warn(msg, FutureWarning)\n",
      "/scratch/alper.eroglu/miniconda3/lib/python3.10/site-packages/anndata/utils.py:434: FutureWarning: Importing read_excel from `anndata` is deprecated. Import anndata.io.read_excel instead.\n",
      "  warnings.warn(msg, FutureWarning)\n",
      "/scratch/alper.eroglu/miniconda3/lib/python3.10/site-packages/anndata/utils.py:434: FutureWarning: Importing read_hdf from `anndata` is deprecated. Import anndata.io.read_hdf instead.\n",
      "  warnings.warn(msg, FutureWarning)\n",
      "/scratch/alper.eroglu/miniconda3/lib/python3.10/site-packages/anndata/utils.py:434: FutureWarning: Importing read_loom from `anndata` is deprecated. Import anndata.io.read_loom instead.\n",
      "  warnings.warn(msg, FutureWarning)\n",
      "/scratch/alper.eroglu/miniconda3/lib/python3.10/site-packages/anndata/utils.py:434: FutureWarning: Importing read_mtx from `anndata` is deprecated. Import anndata.io.read_mtx instead.\n",
      "  warnings.warn(msg, FutureWarning)\n",
      "/scratch/alper.eroglu/miniconda3/lib/python3.10/site-packages/anndata/utils.py:434: FutureWarning: Importing read_text from `anndata` is deprecated. Import anndata.io.read_text instead.\n",
      "  warnings.warn(msg, FutureWarning)\n",
      "/scratch/alper.eroglu/miniconda3/lib/python3.10/site-packages/anndata/utils.py:434: FutureWarning: Importing read_umi_tools from `anndata` is deprecated. Import anndata.io.read_umi_tools instead.\n",
      "  warnings.warn(msg, FutureWarning)\n",
      "/scratch/alper.eroglu/miniconda3/lib/python3.10/site-packages/anndata/utils.py:434: FutureWarning: Importing read_csv from `anndata` is deprecated. Import anndata.io.read_csv instead.\n",
      "  warnings.warn(msg, FutureWarning)\n",
      "/scratch/alper.eroglu/miniconda3/lib/python3.10/site-packages/anndata/utils.py:434: FutureWarning: Importing read_loom from `anndata` is deprecated. Import anndata.io.read_loom instead.\n",
      "  warnings.warn(msg, FutureWarning)\n",
      "/scratch/alper.eroglu/miniconda3/lib/python3.10/site-packages/anndata/utils.py:434: FutureWarning: Importing read_text from `anndata` is deprecated. Import anndata.io.read_text instead.\n",
      "  warnings.warn(msg, FutureWarning)\n",
      "/scratch/alper.eroglu/miniconda3/lib/python3.10/site-packages/anndata/utils.py:434: FutureWarning: Importing CSCDataset from `anndata.experimental` is deprecated. Import anndata.abc.CSCDataset instead.\n",
      "  warnings.warn(msg, FutureWarning)\n",
      "/scratch/alper.eroglu/miniconda3/lib/python3.10/site-packages/anndata/utils.py:434: FutureWarning: Importing CSRDataset from `anndata.experimental` is deprecated. Import anndata.abc.CSRDataset instead.\n",
      "  warnings.warn(msg, FutureWarning)\n",
      "/scratch/alper.eroglu/miniconda3/lib/python3.10/site-packages/anndata/utils.py:434: FutureWarning: Importing read_elem from `anndata.experimental` is deprecated. Import anndata.io.read_elem instead.\n",
      "  warnings.warn(msg, FutureWarning)\n",
      "/scratch/alper.eroglu/miniconda3/lib/python3.10/site-packages/tqdm/auto.py:21: TqdmWarning: IProgress not found. Please update jupyter and ipywidgets. See https://ipywidgets.readthedocs.io/en/stable/user_install.html\n",
      "  from .autonotebook import tqdm as notebook_tqdm\n"
     ]
    }
   ],
   "source": [
    "import anndata\n",
    "import matplotlib.pyplot as plt\n",
    "import numpy as np\n",
    "import scanpy as sc\n",
    "import scgen\n",
    "from scipy.stats import spearmanr\n",
    "from scvi.data import cortex, smfish\n",
    "from scvi.external import GIMVI\n",
    "import sys\n",
    "import os\n",
    "import pandas as pd\n",
    "from multiprocessing import Pool\n",
    "from adpbulk import ADPBulk\n",
    "import gc\n",
    "import seaborn as sns\n",
    "from torchviz import make_dot\n",
    "\n",
    "import scvi\n",
    "scvi.settings.num_threads = 10\n",
    "\n",
    "seed = 42\n",
    "np.random.seed(seed)\n",
    "\n"
   ]
  },
  {
   "cell_type": "code",
   "execution_count": 8,
   "id": "4b5f36c9",
   "metadata": {},
   "outputs": [
    {
     "name": "stderr",
     "output_type": "stream",
     "text": [
      "fitting indices: cellType: 100%|██████████| 10/10 [00:00<00:00, 7224.09it/s]\n",
      "fitting indices: orig.ident: 100%|██████████| 8/8 [00:00<00:00, 2858.13it/s]\n",
      "Aggregating Samples: 100%|██████████| 80/80 [00:24<00:00,  3.29it/s]\n"
     ]
    },
    {
     "data": {
      "text/plain": [
       "(73, 16978)"
      ]
     },
     "execution_count": 8,
     "metadata": {},
     "output_type": "execute_result"
    }
   ],
   "source": [
    "gsell_adata = sc.read_h5ad(\"/scratch/alper.eroglu/cirrus/data/Gsell_BC_Coh4.h5ad\")\n",
    "metadata = pd.read_csv(\"/scratch/alper.eroglu/Coh4_Human_Mice/coh4_metadata.csv\", index_col = 0)\n",
    "gsell_adata.obs = gsell_adata.obs.merge(metadata,  left_index=True, right_index=True)\n",
    "gsell_adata = gsell_adata[~gsell_adata.obs[\"cellType\"].isna()]\n",
    "\n",
    "adpb = ADPBulk(gsell_adata, [\"orig.ident\", \"cellType\"])\n",
    "alphas = adpb.fit_transform()\n",
    "# alphas.index = alphas.index.map(lambda x: x.split(\".\")[1])\n",
    "\n",
    "alphas.shape\n",
    "\n"
   ]
  },
  {
   "cell_type": "code",
   "execution_count": 9,
   "id": "5ccd913d",
   "metadata": {},
   "outputs": [
    {
     "data": {
      "application/vnd.microsoft.datawrangler.viewer.v0+json": {
       "columns": [
        {
         "name": "index",
         "rawType": "int64",
         "type": "integer"
        },
        {
         "name": "cellType",
         "rawType": "object",
         "type": "string"
        },
        {
         "name": "orig.ident",
         "rawType": "object",
         "type": "string"
        },
        {
         "name": "SampleName",
         "rawType": "object",
         "type": "string"
        }
       ],
       "ref": "e39f1a40-a39b-4229-b473-8d2a22c49487",
       "rows": [
        [
         "0",
         "Bcells",
         "629-1",
         "cellType.Bcells-orig.ident.629-1"
        ],
        [
         "1",
         "Bcells",
         "629-5",
         "cellType.Bcells-orig.ident.629-5"
        ],
        [
         "2",
         "Bcells",
         "632-2",
         "cellType.Bcells-orig.ident.632-2"
        ],
        [
         "3",
         "Bcells",
         "634-1",
         "cellType.Bcells-orig.ident.634-1"
        ],
        [
         "4",
         "Bcells",
         "634-5",
         "cellType.Bcells-orig.ident.634-5"
        ]
       ],
       "shape": {
        "columns": 3,
        "rows": 5
       }
      },
      "text/html": [
       "<div>\n",
       "<style scoped>\n",
       "    .dataframe tbody tr th:only-of-type {\n",
       "        vertical-align: middle;\n",
       "    }\n",
       "\n",
       "    .dataframe tbody tr th {\n",
       "        vertical-align: top;\n",
       "    }\n",
       "\n",
       "    .dataframe thead th {\n",
       "        text-align: right;\n",
       "    }\n",
       "</style>\n",
       "<table border=\"1\" class=\"dataframe\">\n",
       "  <thead>\n",
       "    <tr style=\"text-align: right;\">\n",
       "      <th></th>\n",
       "      <th>cellType</th>\n",
       "      <th>orig.ident</th>\n",
       "      <th>SampleName</th>\n",
       "    </tr>\n",
       "  </thead>\n",
       "  <tbody>\n",
       "    <tr>\n",
       "      <th>0</th>\n",
       "      <td>Bcells</td>\n",
       "      <td>629-1</td>\n",
       "      <td>cellType.Bcells-orig.ident.629-1</td>\n",
       "    </tr>\n",
       "    <tr>\n",
       "      <th>1</th>\n",
       "      <td>Bcells</td>\n",
       "      <td>629-5</td>\n",
       "      <td>cellType.Bcells-orig.ident.629-5</td>\n",
       "    </tr>\n",
       "    <tr>\n",
       "      <th>2</th>\n",
       "      <td>Bcells</td>\n",
       "      <td>632-2</td>\n",
       "      <td>cellType.Bcells-orig.ident.632-2</td>\n",
       "    </tr>\n",
       "    <tr>\n",
       "      <th>3</th>\n",
       "      <td>Bcells</td>\n",
       "      <td>634-1</td>\n",
       "      <td>cellType.Bcells-orig.ident.634-1</td>\n",
       "    </tr>\n",
       "    <tr>\n",
       "      <th>4</th>\n",
       "      <td>Bcells</td>\n",
       "      <td>634-5</td>\n",
       "      <td>cellType.Bcells-orig.ident.634-5</td>\n",
       "    </tr>\n",
       "  </tbody>\n",
       "</table>\n",
       "</div>"
      ],
      "text/plain": [
       "  cellType orig.ident                        SampleName\n",
       "0   Bcells      629-1  cellType.Bcells-orig.ident.629-1\n",
       "1   Bcells      629-5  cellType.Bcells-orig.ident.629-5\n",
       "2   Bcells      632-2  cellType.Bcells-orig.ident.632-2\n",
       "3   Bcells      634-1  cellType.Bcells-orig.ident.634-1\n",
       "4   Bcells      634-5  cellType.Bcells-orig.ident.634-5"
      ]
     },
     "execution_count": 9,
     "metadata": {},
     "output_type": "execute_result"
    }
   ],
   "source": [
    "sample_meta = adpb.get_meta()\n",
    "\n",
    "sample_meta.head()\n"
   ]
  },
  {
   "cell_type": "code",
   "execution_count": 10,
   "id": "b06bb991",
   "metadata": {},
   "outputs": [
    {
     "data": {
      "text/plain": [
       "Index(['cellType.Bcells-orig.ident.629-1', 'cellType.Bcells-orig.ident.629-5',\n",
       "       'cellType.Bcells-orig.ident.632-2', 'cellType.Bcells-orig.ident.634-1',\n",
       "       'cellType.Bcells-orig.ident.634-5', 'cellType.Bcells-orig.ident.636-1',\n",
       "       'cellType.Bcells-orig.ident.636-4',\n",
       "       'cellType.CD4Tcells-orig.ident.629-1',\n",
       "       'cellType.CD4Tcells-orig.ident.629-5',\n",
       "       'cellType.CD4Tcells-orig.ident.632-3',\n",
       "       'cellType.CD4Tcells-orig.ident.634-1',\n",
       "       'cellType.CD4Tcells-orig.ident.634-5',\n",
       "       'cellType.CD4Tcells-orig.ident.636-1',\n",
       "       'cellType.CD4Tcells-orig.ident.636-4',\n",
       "       'cellType.CD8Tcells-orig.ident.629-1',\n",
       "       'cellType.CD8Tcells-orig.ident.629-5',\n",
       "       'cellType.CD8Tcells-orig.ident.632-2',\n",
       "       'cellType.CD8Tcells-orig.ident.632-3',\n",
       "       'cellType.CD8Tcells-orig.ident.634-1',\n",
       "       'cellType.CD8Tcells-orig.ident.634-5',\n",
       "       'cellType.CD8Tcells-orig.ident.636-1',\n",
       "       'cellType.CD8Tcells-orig.ident.636-4', 'cellType.DCs-orig.ident.629-1',\n",
       "       'cellType.DCs-orig.ident.629-5', 'cellType.DCs-orig.ident.632-2',\n",
       "       'cellType.DCs-orig.ident.632-3', 'cellType.DCs-orig.ident.634-1',\n",
       "       'cellType.DCs-orig.ident.634-5', 'cellType.DCs-orig.ident.636-1',\n",
       "       'cellType.DCs-orig.ident.636-4', 'cellType.NKcells-orig.ident.629-1',\n",
       "       'cellType.NKcells-orig.ident.629-5',\n",
       "       'cellType.NKcells-orig.ident.632-2',\n",
       "       'cellType.NKcells-orig.ident.632-3',\n",
       "       'cellType.NKcells-orig.ident.634-1',\n",
       "       'cellType.NKcells-orig.ident.634-5',\n",
       "       'cellType.NKcells-orig.ident.636-1',\n",
       "       'cellType.NKcells-orig.ident.636-4', 'cellType.TAMs-orig.ident.629-1',\n",
       "       'cellType.TAMs-orig.ident.629-5', 'cellType.TAMs-orig.ident.632-2',\n",
       "       'cellType.TAMs-orig.ident.632-3', 'cellType.TAMs-orig.ident.634-1',\n",
       "       'cellType.TAMs-orig.ident.634-5', 'cellType.TAMs-orig.ident.636-1',\n",
       "       'cellType.TAMs-orig.ident.636-4', 'cellType.Tregs-orig.ident.629-1',\n",
       "       'cellType.Tregs-orig.ident.629-5', 'cellType.Tregs-orig.ident.632-2',\n",
       "       'cellType.Tregs-orig.ident.632-3', 'cellType.Tregs-orig.ident.634-1',\n",
       "       'cellType.Tregs-orig.ident.634-5', 'cellType.Tregs-orig.ident.636-1',\n",
       "       'cellType.Tregs-orig.ident.636-4', 'cellType.cancer-orig.ident.629-1',\n",
       "       'cellType.cancer-orig.ident.629-5', 'cellType.cancer-orig.ident.632-2',\n",
       "       'cellType.cancer-orig.ident.632-3', 'cellType.cancer-orig.ident.634-1',\n",
       "       'cellType.cancer-orig.ident.634-5', 'cellType.cancer-orig.ident.636-1',\n",
       "       'cellType.cancer-orig.ident.636-4', 'cellType.endo-orig.ident.629-5',\n",
       "       'cellType.endo-orig.ident.632-2', 'cellType.endo-orig.ident.634-5',\n",
       "       'cellType.endo-orig.ident.636-4',\n",
       "       'cellType.fibroAdipo-orig.ident.629-1',\n",
       "       'cellType.fibroAdipo-orig.ident.629-5',\n",
       "       'cellType.fibroAdipo-orig.ident.632-2',\n",
       "       'cellType.fibroAdipo-orig.ident.632-3',\n",
       "       'cellType.fibroAdipo-orig.ident.634-1',\n",
       "       'cellType.fibroAdipo-orig.ident.636-1',\n",
       "       'cellType.fibroAdipo-orig.ident.636-4'],\n",
       "      dtype='object')"
      ]
     },
     "execution_count": 10,
     "metadata": {},
     "output_type": "execute_result"
    }
   ],
   "source": [
    "alphas.index"
   ]
  },
  {
   "cell_type": "code",
   "execution_count": 13,
   "id": "22d86b54",
   "metadata": {},
   "outputs": [],
   "source": [
    "alphas.to_csv(\"/scratch/alper.eroglu/data/BC_pseudobulk_counts.csv\")"
   ]
  },
  {
   "cell_type": "code",
   "execution_count": 14,
   "id": "c3fcf7dc",
   "metadata": {},
   "outputs": [],
   "source": [
    "sample_meta.to_csv(\"/scratch/alper.eroglu/data/BC_pseudobulk_metadata.csv\")"
   ]
  },
  {
   "cell_type": "code",
   "execution_count": null,
   "id": "8f11e8b0",
   "metadata": {},
   "outputs": [],
   "source": [
    "del"
   ]
  }
 ],
 "metadata": {
  "kernelspec": {
   "display_name": "base",
   "language": "python",
   "name": "python3"
  },
  "language_info": {
   "codemirror_mode": {
    "name": "ipython",
    "version": 3
   },
   "file_extension": ".py",
   "mimetype": "text/x-python",
   "name": "python",
   "nbconvert_exporter": "python",
   "pygments_lexer": "ipython3",
   "version": "3.10.10"
  }
 },
 "nbformat": 4,
 "nbformat_minor": 5
}
